{
 "cells": [
  {
   "cell_type": "markdown",
   "id": "3d95507c",
   "metadata": {},
   "source": [
    "# Portfolio Project: Safety Option\n",
    "\n",
    "**Names:** Deniz Makul, Richard Sha, Mitchel Shen\n",
    "\n",
    "**Due:** 11/25/2022 at 11:59pm ET on Dropbox\n",
    "\n",
    "**What to submit:** your .ipynb (python code in jupyter notebooks) file as well as a pdf with all the output from your code.  \n",
    "\n",
    "\n"
   ]
  },
  {
   "cell_type": "code",
   "execution_count": 1,
   "id": "daf477c4",
   "metadata": {},
   "outputs": [],
   "source": [
    "from IPython.display import display, Math, Latex\n",
    "\n",
    "import pandas as pd\n",
    "import numpy as np\n",
    "import numpy_financial as npf\n",
    "import yfinance as yf\n",
    "import matplotlib.pyplot as plt\n",
    "from datetime import datetime"
   ]
  },
  {
   "cell_type": "code",
   "execution_count": 2,
   "id": "bc097aa9",
   "metadata": {},
   "outputs": [],
   "source": [
    "#Getting tickers from csv file\n",
    "csv_tickers = pd.read_csv('Tickers_Example.csv', header = None)"
   ]
  },
  {
   "cell_type": "code",
   "execution_count": 3,
   "id": "7984eb1d",
   "metadata": {},
   "outputs": [
    {
     "data": {
      "text/html": [
       "<div>\n",
       "<style scoped>\n",
       "    .dataframe tbody tr th:only-of-type {\n",
       "        vertical-align: middle;\n",
       "    }\n",
       "\n",
       "    .dataframe tbody tr th {\n",
       "        vertical-align: top;\n",
       "    }\n",
       "\n",
       "    .dataframe thead th {\n",
       "        text-align: right;\n",
       "    }\n",
       "</style>\n",
       "<table border=\"1\" class=\"dataframe\">\n",
       "  <thead>\n",
       "    <tr style=\"text-align: right;\">\n",
       "      <th></th>\n",
       "      <th>0</th>\n",
       "    </tr>\n",
       "  </thead>\n",
       "  <tbody>\n",
       "    <tr>\n",
       "      <th>0</th>\n",
       "      <td>AAPL</td>\n",
       "    </tr>\n",
       "    <tr>\n",
       "      <th>1</th>\n",
       "      <td>ABBV</td>\n",
       "    </tr>\n",
       "    <tr>\n",
       "      <th>2</th>\n",
       "      <td>ABT</td>\n",
       "    </tr>\n",
       "    <tr>\n",
       "      <th>3</th>\n",
       "      <td>ACN</td>\n",
       "    </tr>\n",
       "    <tr>\n",
       "      <th>4</th>\n",
       "      <td>AGN</td>\n",
       "    </tr>\n",
       "  </tbody>\n",
       "</table>\n",
       "</div>"
      ],
      "text/plain": [
       "      0\n",
       "0  AAPL\n",
       "1  ABBV\n",
       "2   ABT\n",
       "3   ACN\n",
       "4   AGN"
      ]
     },
     "execution_count": 3,
     "metadata": {},
     "output_type": "execute_result"
    }
   ],
   "source": [
    "#Drops the tickers with .TO ending from the csv_tickers dataframe\n",
    "mask = csv_tickers.loc[csv_tickers[0].str.contains('.TO')]\n",
    "csv_tickers.drop(index = mask.index, inplace = True)\n",
    "csv_tickers.reset_index(drop = True, inplace = True)\n",
    "csv_tickers.head()"
   ]
  },
  {
   "cell_type": "code",
   "execution_count": 4,
   "id": "c963101d",
   "metadata": {},
   "outputs": [
    {
     "data": {
      "text/plain": [
       "{'2022-01': 20,\n",
       " '2022-02': 19,\n",
       " '2022-03': 23,\n",
       " '2022-04': 20,\n",
       " '2022-05': 21,\n",
       " '2022-06': 21,\n",
       " '2022-07': 20,\n",
       " '2022-08': 23,\n",
       " '2022-09': 21,\n",
       " '2022-10': 20}"
      ]
     },
     "execution_count": 4,
     "metadata": {},
     "output_type": "execute_result"
    }
   ],
   "source": [
    "volume_start_date = '2022-01-01'\n",
    "volume_end_date = '2022-10-31'\n",
    "\n",
    "info = yf.Ticker('AAPL')\n",
    "hist = info.history(start = volume_start_date, end = volume_end_date)\n",
    "\n",
    "trading_days_in_month = {}\n",
    "\n",
    "for i in range(1,11,1):\n",
    "    if i <= 9:\n",
    "        i = str(0) + str(i)\n",
    "    df = hist.filter(like='2022-' + str(i), axis=0)\n",
    "    trading_days_in_month['2022-' + str(i)] = len(df.index)\n",
    "\n",
    "trading_days_in_month\n",
    "\n"
   ]
  },
  {
   "cell_type": "code",
   "execution_count": 5,
   "id": "3b7836cb",
   "metadata": {},
   "outputs": [
    {
     "name": "stdout",
     "output_type": "stream",
     "text": [
      "- AGN: No data found, symbol may be delisted\n",
      "- CELG: No data found, symbol may be delisted\n",
      "- PCLN: No data found for this date range, symbol may be delisted\n",
      "- RTN: No data found, symbol may be delisted\n",
      "- TWX: No data found for this date range, symbol may be delisted\n"
     ]
    }
   ],
   "source": [
    "#Drops the tickers that are delisted or have a average monthly volume from \n",
    "# January 1st to October 31st of less that 200,000\n",
    "volume_index_drop = []\n",
    "\n",
    "i = 0\n",
    "while i < len(csv_tickers):\n",
    "    stock_data = yf.Ticker(csv_tickers[0][i])\n",
    "    stock_hist = stock_data.history(start = volume_start_date, end = volume_end_date, interval = '1mo')\n",
    "    stock_volume = stock_hist['Volume']\n",
    "    \n",
    "    stock_volume = stock_volume.dropna()\n",
    "    \n",
    "    #print(stock_volume)\n",
    "    mean = (stock_volume.mean())\n",
    "    \n",
    "    if(np.isnan(mean) or mean < 200000):\n",
    "        volume_index_drop.append(i)\n",
    "    elif(stock_data.info['market'] != 'us_market'):\n",
    "        volume_index_drop.append(i)\n",
    "    i += 1"
   ]
  },
  {
   "cell_type": "code",
   "execution_count": null,
   "id": "e4c91167",
   "metadata": {
    "scrolled": true
   },
   "outputs": [],
   "source": [
    "#Drops invalid tickers\n",
    "csv_tickers.drop(index = volume_index_drop, inplace = True)\n",
    "csv_tickers.reset_index(drop = True, inplace = True)\n",
    "csv_tickers.head()"
   ]
  },
  {
   "cell_type": "code",
   "execution_count": null,
   "id": "57b3c0ea",
   "metadata": {},
   "outputs": [],
   "source": [
    "tickers_list = []\n",
    "price_list = []\n",
    "shares_list = []\n",
    "values_list = []\n",
    "weight_list = []"
   ]
  },
  {
   "cell_type": "code",
   "execution_count": null,
   "id": "6f777d9e",
   "metadata": {},
   "outputs": [],
   "source": [
    "# Richard\n",
    "total_amount_to_spend = 500000\n",
    "\n",
    "Portfolio_Final = pd.DataFrame({\n",
    "    'Ticker': tickers_list,\n",
    "    'Price': price_list,\n",
    "    'Shares': shares_list,\n",
    "    'Value': values_list,\n",
    "    'Weight': weight_list\n",
    "})"
   ]
  },
  {
   "cell_type": "code",
   "execution_count": null,
   "id": "1458b41b",
   "metadata": {},
   "outputs": [],
   "source": []
  },
  {
   "cell_type": "code",
   "execution_count": null,
   "id": "9bde116f",
   "metadata": {},
   "outputs": [],
   "source": [
    "# Deniz"
   ]
  },
  {
   "cell_type": "code",
   "execution_count": null,
   "id": "60db0f79",
   "metadata": {},
   "outputs": [],
   "source": [
    "# Mitchel"
   ]
  }
 ],
 "metadata": {
  "kernelspec": {
   "display_name": "venv",
   "language": "python",
   "name": "venv"
  },
  "language_info": {
   "codemirror_mode": {
    "name": "ipython",
    "version": 3
   },
   "file_extension": ".py",
   "mimetype": "text/x-python",
   "name": "python",
   "nbconvert_exporter": "python",
   "pygments_lexer": "ipython3",
   "version": "3.9.12"
  }
 },
 "nbformat": 4,
 "nbformat_minor": 5
}
