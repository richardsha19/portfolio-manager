{
 "cells": [
  {
   "cell_type": "markdown",
   "id": "3d95507c",
   "metadata": {},
   "source": [
    "# Portfolio Project: Safety Option\n",
    "\n",
    "**Names:** Deniz Makul, Richard Sha, Mitchel Shen\n",
    "\n",
    "**Due:** 11/25/2022 at 11:59pm ET on Dropbox\n",
    "\n",
    "**What to submit:** your .ipynb (python code in jupyter notebooks) file as well as a pdf with all the output from your code.  \n",
    "\n",
    "\n"
   ]
  },
  {
   "cell_type": "code",
   "execution_count": 60,
   "id": "daf477c4",
   "metadata": {},
   "outputs": [],
   "source": [
    "from IPython.display import display, Math, Latex\n",
    "\n",
    "import pandas as pd\n",
    "import numpy as np\n",
    "import numpy_financial as npf\n",
    "import yfinance as yf\n",
    "import matplotlib.pyplot as plt\n",
    "from datetime import datetime"
   ]
  },
  {
   "cell_type": "code",
   "execution_count": 61,
   "id": "bc097aa9",
   "metadata": {},
   "outputs": [],
   "source": [
    "#Getting tickers from csv file\n",
    "csv_tickers = pd.read_csv('Tickers_Example.csv', header = None)"
   ]
  },
  {
   "cell_type": "code",
   "execution_count": 95,
   "id": "7984eb1d",
   "metadata": {},
   "outputs": [
    {
     "data": {
      "text/html": [
       "<div>\n",
       "<style scoped>\n",
       "    .dataframe tbody tr th:only-of-type {\n",
       "        vertical-align: middle;\n",
       "    }\n",
       "\n",
       "    .dataframe tbody tr th {\n",
       "        vertical-align: top;\n",
       "    }\n",
       "\n",
       "    .dataframe thead th {\n",
       "        text-align: right;\n",
       "    }\n",
       "</style>\n",
       "<table border=\"1\" class=\"dataframe\">\n",
       "  <thead>\n",
       "    <tr style=\"text-align: right;\">\n",
       "      <th></th>\n",
       "      <th>0</th>\n",
       "    </tr>\n",
       "  </thead>\n",
       "  <tbody>\n",
       "    <tr>\n",
       "      <th>0</th>\n",
       "      <td>AAPL</td>\n",
       "    </tr>\n",
       "    <tr>\n",
       "      <th>1</th>\n",
       "      <td>ABBV</td>\n",
       "    </tr>\n",
       "    <tr>\n",
       "      <th>2</th>\n",
       "      <td>ABT</td>\n",
       "    </tr>\n",
       "    <tr>\n",
       "      <th>3</th>\n",
       "      <td>ACN</td>\n",
       "    </tr>\n",
       "    <tr>\n",
       "      <th>4</th>\n",
       "      <td>AIG</td>\n",
       "    </tr>\n",
       "  </tbody>\n",
       "</table>\n",
       "</div>"
      ],
      "text/plain": [
       "      0\n",
       "0  AAPL\n",
       "1  ABBV\n",
       "2   ABT\n",
       "3   ACN\n",
       "4   AIG"
      ]
     },
     "execution_count": 95,
     "metadata": {},
     "output_type": "execute_result"
    }
   ],
   "source": [
    "#Drops the tickers with .TO ending from the csv_tickers dataframe\n",
    "mask = csv_tickers.loc[csv_tickers[0].str.contains('.TO')]\n",
    "csv_tickers.drop(index = mask.index, inplace = True)\n",
    "csv_tickers.reset_index(drop = True, inplace = True)\n",
    "csv_tickers.head()"
   ]
  },
  {
   "cell_type": "code",
   "execution_count": 99,
   "id": "3b7836cb",
   "metadata": {},
   "outputs": [
    {
     "data": {
      "text/html": [
       "<div>\n",
       "<style scoped>\n",
       "    .dataframe tbody tr th:only-of-type {\n",
       "        vertical-align: middle;\n",
       "    }\n",
       "\n",
       "    .dataframe tbody tr th {\n",
       "        vertical-align: top;\n",
       "    }\n",
       "\n",
       "    .dataframe thead th {\n",
       "        text-align: right;\n",
       "    }\n",
       "</style>\n",
       "<table border=\"1\" class=\"dataframe\">\n",
       "  <thead>\n",
       "    <tr style=\"text-align: right;\">\n",
       "      <th></th>\n",
       "      <th>0</th>\n",
       "    </tr>\n",
       "  </thead>\n",
       "  <tbody>\n",
       "    <tr>\n",
       "      <th>0</th>\n",
       "      <td>AAPL</td>\n",
       "    </tr>\n",
       "    <tr>\n",
       "      <th>1</th>\n",
       "      <td>ABBV</td>\n",
       "    </tr>\n",
       "    <tr>\n",
       "      <th>2</th>\n",
       "      <td>ABT</td>\n",
       "    </tr>\n",
       "    <tr>\n",
       "      <th>3</th>\n",
       "      <td>ACN</td>\n",
       "    </tr>\n",
       "    <tr>\n",
       "      <th>4</th>\n",
       "      <td>AIG</td>\n",
       "    </tr>\n",
       "  </tbody>\n",
       "</table>\n",
       "</div>"
      ],
      "text/plain": [
       "      0\n",
       "0  AAPL\n",
       "1  ABBV\n",
       "2   ABT\n",
       "3   ACN\n",
       "4   AIG"
      ]
     },
     "execution_count": 99,
     "metadata": {},
     "output_type": "execute_result"
    }
   ],
   "source": [
    "#Drops the tickers that are delisted or have a average monthly volume from \n",
    "# January 1st to October 31st of less that 200,000\n",
    "volume_index_drop = []\n",
    "\n",
    "volume_start_date = '2022-01-01'\n",
    "volume_end_date = '2022-10-31'\n",
    "\n",
    "i = 0\n",
    "while i < len(csv_tickers):\n",
    "    stock_data = yf.Ticker(csv_tickers[0][i])\n",
    "    stock_hist = stock_data.history(start = volume_start_date, end = volume_end_date, interval = '1mo')\n",
    "    stock_volume = stock_hist['Volume']\n",
    "    \n",
    "    mean = (stock_volume.mean())\n",
    "    \n",
    "    if(np.isnan(mean) or mean < 200000):\n",
    "        volume_index_drop.append(i)\n",
    "    i += 1\n",
    "    \n",
    "csv_tickers.head()"
   ]
  },
  {
   "cell_type": "code",
   "execution_count": 100,
   "id": "03bf7821",
   "metadata": {
    "scrolled": true
   },
   "outputs": [
    {
     "data": {
      "text/html": [
       "<div>\n",
       "<style scoped>\n",
       "    .dataframe tbody tr th:only-of-type {\n",
       "        vertical-align: middle;\n",
       "    }\n",
       "\n",
       "    .dataframe tbody tr th {\n",
       "        vertical-align: top;\n",
       "    }\n",
       "\n",
       "    .dataframe thead th {\n",
       "        text-align: right;\n",
       "    }\n",
       "</style>\n",
       "<table border=\"1\" class=\"dataframe\">\n",
       "  <thead>\n",
       "    <tr style=\"text-align: right;\">\n",
       "      <th></th>\n",
       "      <th>0</th>\n",
       "    </tr>\n",
       "  </thead>\n",
       "  <tbody>\n",
       "    <tr>\n",
       "      <th>0</th>\n",
       "      <td>AAPL</td>\n",
       "    </tr>\n",
       "    <tr>\n",
       "      <th>1</th>\n",
       "      <td>ABBV</td>\n",
       "    </tr>\n",
       "    <tr>\n",
       "      <th>2</th>\n",
       "      <td>ABT</td>\n",
       "    </tr>\n",
       "    <tr>\n",
       "      <th>3</th>\n",
       "      <td>ACN</td>\n",
       "    </tr>\n",
       "    <tr>\n",
       "      <th>4</th>\n",
       "      <td>AIG</td>\n",
       "    </tr>\n",
       "  </tbody>\n",
       "</table>\n",
       "</div>"
      ],
      "text/plain": [
       "      0\n",
       "0  AAPL\n",
       "1  ABBV\n",
       "2   ABT\n",
       "3   ACN\n",
       "4   AIG"
      ]
     },
     "execution_count": 100,
     "metadata": {},
     "output_type": "execute_result"
    }
   ],
   "source": [
    "csv_tickers.drop(index = volume_index_drop, inplace = True)\n",
    "csv_tickers.reset_index(drop = True, inplace = True)\n",
    "csv_tickers.head()"
   ]
  },
  {
   "cell_type": "code",
   "execution_count": null,
   "id": "090cc4b3",
   "metadata": {},
   "outputs": [],
   "source": [
    "# Richard"
   ]
  },
  {
   "cell_type": "code",
   "execution_count": null,
   "id": "9bde116f",
   "metadata": {},
   "outputs": [],
   "source": [
    "# Deniz"
   ]
  },
  {
   "cell_type": "code",
   "execution_count": null,
   "id": "60db0f79",
   "metadata": {},
   "outputs": [],
   "source": [
    "# Mitchel"
   ]
  }
 ],
 "metadata": {
  "kernelspec": {
   "display_name": "venv",
   "language": "python",
   "name": "venv"
  },
  "language_info": {
   "codemirror_mode": {
    "name": "ipython",
    "version": 3
   },
   "file_extension": ".py",
   "mimetype": "text/x-python",
   "name": "python",
   "nbconvert_exporter": "python",
   "pygments_lexer": "ipython3",
   "version": "3.9.12"
  }
 },
 "nbformat": 4,
 "nbformat_minor": 5
}
