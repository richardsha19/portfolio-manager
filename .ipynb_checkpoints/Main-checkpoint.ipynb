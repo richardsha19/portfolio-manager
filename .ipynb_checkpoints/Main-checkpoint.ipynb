{
 "cells": [
  {
   "cell_type": "markdown",
   "id": "3d95507c",
   "metadata": {},
   "source": [
    "# Portfolio Project: Safety Option\n",
    "\n",
    "**Names:** Deniz Makul, Richard Sha, Mitchel Shen\n",
    "\n",
    "**Due:** 11/25/2022 at 11:59pm ET on Dropbox\n",
    "\n",
    "**What to submit:** your .ipynb (python code in jupyter notebooks) file as well as a pdf with all the output from your code.  \n",
    "\n",
    "\n"
   ]
  },
  {
   "cell_type": "code",
   "execution_count": 3,
   "id": "daf477c4",
   "metadata": {},
   "outputs": [],
   "source": [
    "from IPython.display import display, Math, Latex\n",
    "\n",
    "import pandas as pd\n",
    "import numpy as np\n",
    "import numpy_financial as npf\n",
    "import yfinance as yf\n",
    "import matplotlib.pyplot as plt\n",
    "from datetime import datetime"
   ]
  },
  {
   "cell_type": "code",
   "execution_count": 4,
   "id": "059902a1",
   "metadata": {},
   "outputs": [],
   "source": [
    "#Getting tickers from csv file\n",
    "csv_tickers = pd.read_csv('Tickers_Example.csv')"
   ]
  },
  {
   "cell_type": "code",
   "execution_count": null,
   "id": "7984eb1d",
   "metadata": {},
   "outputs": [],
   "source": [
    "# Richard\n",
    "csv_tickers"
   ]
  },
  {
   "cell_type": "code",
   "execution_count": null,
   "id": "9bde116f",
   "metadata": {},
   "outputs": [],
   "source": [
    "# Deniz"
   ]
  },
  {
   "cell_type": "code",
   "execution_count": null,
   "id": "60db0f79",
   "metadata": {},
   "outputs": [],
   "source": [
    "# Mitchel"
   ]
  }
 ],
 "metadata": {
  "kernelspec": {
   "display_name": "venv",
   "language": "python",
   "name": "venv"
  },
  "language_info": {
   "codemirror_mode": {
    "name": "ipython",
    "version": 3
   },
   "file_extension": ".py",
   "mimetype": "text/x-python",
   "name": "python",
   "nbconvert_exporter": "python",
   "pygments_lexer": "ipython3",
   "version": "3.9.12"
  }
 },
 "nbformat": 4,
 "nbformat_minor": 5
}
