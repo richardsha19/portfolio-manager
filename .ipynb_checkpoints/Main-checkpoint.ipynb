{
 "cells": [
  {
   "cell_type": "markdown",
   "id": "3d95507c",
   "metadata": {},
   "source": [
    "# Portfolio Project: Safety Option\n",
    "\n",
    "**Names:** Deniz Makul, Richard Sha, Mitchel Shen\n",
    "\n",
    "**Due:** 11/25/2022 at 11:59pm ET on Dropbox\n",
    "\n",
    "**What to submit:** your .ipynb (python code in jupyter notebooks) file as well as a pdf with all the output from your code.  \n",
    "\n",
    "\n"
   ]
  },
  {
   "cell_type": "code",
   "execution_count": 3,
   "id": "daf477c4",
   "metadata": {},
   "outputs": [],
   "source": [
    "from IPython.display import display, Math, Latex\n",
    "\n",
    "import pandas as pd\n",
    "import numpy as np\n",
    "import numpy_financial as npf\n",
    "import yfinance as yf\n",
    "import matplotlib.pyplot as plt\n",
    "from datetime import datetime"
   ]
  },
  {
   "cell_type": "code",
   "execution_count": 4,
   "id": "ea847bf9",
   "metadata": {},
   "outputs": [],
   "source": [
    "#Getting tickers from csv file\n",
    "csv_tickers = pd.read_csv('Tickers_Example.csv', header = None)"
   ]
  },
  {
   "cell_type": "code",
   "execution_count": 7,
   "id": "7984eb1d",
   "metadata": {},
   "outputs": [
    {
     "data": {
      "text/html": [
       "<div>\n",
       "<style scoped>\n",
       "    .dataframe tbody tr th:only-of-type {\n",
       "        vertical-align: middle;\n",
       "    }\n",
       "\n",
       "    .dataframe tbody tr th {\n",
       "        vertical-align: top;\n",
       "    }\n",
       "\n",
       "    .dataframe thead th {\n",
       "        text-align: right;\n",
       "    }\n",
       "</style>\n",
       "<table border=\"1\" class=\"dataframe\">\n",
       "  <thead>\n",
       "    <tr style=\"text-align: right;\">\n",
       "      <th></th>\n",
       "      <th>AAPL</th>\n",
       "    </tr>\n",
       "  </thead>\n",
       "  <tbody>\n",
       "    <tr>\n",
       "      <th>0</th>\n",
       "      <td>ABBV</td>\n",
       "    </tr>\n",
       "    <tr>\n",
       "      <th>1</th>\n",
       "      <td>ABT</td>\n",
       "    </tr>\n",
       "    <tr>\n",
       "      <th>2</th>\n",
       "      <td>ACN</td>\n",
       "    </tr>\n",
       "    <tr>\n",
       "      <th>3</th>\n",
       "      <td>AGN</td>\n",
       "    </tr>\n",
       "    <tr>\n",
       "      <th>4</th>\n",
       "      <td>AIG</td>\n",
       "    </tr>\n",
       "    <tr>\n",
       "      <th>...</th>\n",
       "      <td>...</td>\n",
       "    </tr>\n",
       "    <tr>\n",
       "      <th>56</th>\n",
       "      <td>TXN</td>\n",
       "    </tr>\n",
       "    <tr>\n",
       "      <th>57</th>\n",
       "      <td>UNH</td>\n",
       "    </tr>\n",
       "    <tr>\n",
       "      <th>58</th>\n",
       "      <td>UNP</td>\n",
       "    </tr>\n",
       "    <tr>\n",
       "      <th>59</th>\n",
       "      <td>UPS</td>\n",
       "    </tr>\n",
       "    <tr>\n",
       "      <th>60</th>\n",
       "      <td>USB</td>\n",
       "    </tr>\n",
       "  </tbody>\n",
       "</table>\n",
       "<p>61 rows × 1 columns</p>\n",
       "</div>"
      ],
      "text/plain": [
       "    AAPL\n",
       "0   ABBV\n",
       "1    ABT\n",
       "2    ACN\n",
       "3    AGN\n",
       "4    AIG\n",
       "..   ...\n",
       "56   TXN\n",
       "57   UNH\n",
       "58   UNP\n",
       "59   UPS\n",
       "60   USB\n",
       "\n",
       "[61 rows x 1 columns]"
      ]
     },
     "execution_count": 7,
     "metadata": {},
     "output_type": "execute_result"
    }
   ],
   "source": [
    "# Richard\n",
    "csv_tickers"
   ]
  },
  {
   "cell_type": "code",
   "execution_count": null,
   "id": "9bde116f",
   "metadata": {},
   "outputs": [],
   "source": [
    "# Deniz"
   ]
  },
  {
   "cell_type": "code",
   "execution_count": null,
   "id": "60db0f79",
   "metadata": {},
   "outputs": [],
   "source": [
    "# Mitchel"
   ]
  }
 ],
 "metadata": {
  "kernelspec": {
   "display_name": "venv",
   "language": "python",
   "name": "venv"
  },
  "language_info": {
   "codemirror_mode": {
    "name": "ipython",
    "version": 3
   },
   "file_extension": ".py",
   "mimetype": "text/x-python",
   "name": "python",
   "nbconvert_exporter": "python",
   "pygments_lexer": "ipython3",
   "version": "3.9.12"
  }
 },
 "nbformat": 4,
 "nbformat_minor": 5
}
