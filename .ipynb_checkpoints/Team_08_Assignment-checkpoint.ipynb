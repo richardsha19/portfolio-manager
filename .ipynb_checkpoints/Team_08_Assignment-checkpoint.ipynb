{
 "cells": [
  {
   "cell_type": "markdown",
   "id": "3d95507c",
   "metadata": {},
   "source": [
    "# Portfolio Project: Safety Option\n",
    "\n",
    "**Names:** Deniz Makul, Richard Sha, Mitchel Shen\n",
    "\n",
    "**Due:** 11/25/2022 at 11:59pm ET on Dropbox\n",
    "\n",
    "**What to submit:** your .ipynb (python code in jupyter notebooks) file as well as a pdf with all the output from your code.  \n",
    "\n",
    "\n"
   ]
  },
  {
   "cell_type": "code",
   "execution_count": 1,
   "id": "daf477c4",
   "metadata": {},
   "outputs": [],
   "source": [
    "from IPython.display import display, Math, Latex\n",
    "\n",
    "import pandas as pd\n",
    "import numpy as np\n",
    "import numpy_financial as npf\n",
    "import yfinance as yf\n",
    "import matplotlib.pyplot as plt\n",
    "from datetime import datetime\n",
    "from threading import Thread\n",
    "import time"
   ]
  },
  {
   "cell_type": "code",
   "execution_count": 2,
   "id": "bc097aa9",
   "metadata": {},
   "outputs": [],
   "source": [
    "#Getting tickers from csv file\n",
    "csv_tickers = pd.read_csv('Tickers_Example.csv', header = None)"
   ]
  },
  {
   "cell_type": "code",
   "execution_count": 3,
   "id": "c963101d",
   "metadata": {},
   "outputs": [],
   "source": [
    "# Returns a list of of months that have less than 20 trading days\n",
    "\n",
    "volume_start_date = '2022-01-01'\n",
    "volume_end_date = '2022-10-31'\n",
    "\n",
    "def remove_month(ticker):\n",
    "    hist = ticker.history(start = volume_start_date, end = volume_end_date)\n",
    "    \n",
    "    months_to_remove = []\n",
    "    for i in range(1,11,1):\n",
    "        if i <= 9: #appends a 0 if single digit\n",
    "            i = str(0) + str(i)\n",
    "        df = hist.filter(like='2022-' + str(i), axis=0)\n",
    "        if len(df.index) < 20:\n",
    "            months_to_remove.append('2022-' + str(i))\n",
    "    return months_to_remove"
   ]
  },
  {
   "cell_type": "code",
   "execution_count": 4,
   "id": "20889a5a",
   "metadata": {},
   "outputs": [],
   "source": [
    "volume_index_drop = []\n",
    "\n",
    "def filter_stocks(ticker, i):\n",
    "    stock_data = yf.Ticker(ticker)\n",
    "    stock_hist = stock_data.history(start = volume_start_date, end = volume_end_date, interval = '1mo', Threads = True)\n",
    "    \n",
    "    if stock_hist.empty:\n",
    "        volume_index_drop.append(i)\n",
    "        return\n",
    "    \n",
    "    stock_volume = stock_hist['Volume']\n",
    "    stock_volume = stock_volume.dropna()\n",
    "    stock_volume = stock_volume.drop(remove_month(stock_data))\n",
    "    \n",
    "    mean = (stock_volume.mean())\n",
    "\n",
    "    if mean<200000:\n",
    "        volume_index_drop.append(i)         \n",
    "    elif(stock_data.info['market'] != 'us_market'):\n",
    "        volume_index_drop.append(i)\n",
    "    \n",
    "    #volume_index_drop"
   ]
  },
  {
   "cell_type": "code",
   "execution_count": 5,
   "id": "3b7836cb",
   "metadata": {},
   "outputs": [
    {
     "name": "stdout",
     "output_type": "stream",
     "text": [
      "- CELG: No data found, symbol may be delisted- AGN: No data found, symbol may be delisted\n",
      "\n",
      "- PCLN: No data found for this date range, symbol may be delisted\n",
      "- RTN: No data found, symbol may be delisted\n",
      "- TWX: No data found for this date range, symbol may be delisted\n",
      "[4, 16, 40, 47, 56, 54, 48]\n"
     ]
    }
   ],
   "source": [
    "#Drops the tickers that are delisted or have a average monthly volume from \n",
    "# January 1st to October 31st of less that 200,000\n",
    "\n",
    "# Sending in the first ticker to determine which month to remove\n",
    "\n",
    "thread_list = []\n",
    "\n",
    "for i in range(len(csv_tickers)):\n",
    "    ticker = csv_tickers[0][i]\n",
    "    filter_thread = Thread(target = filter_stocks, args = (ticker,i,))\n",
    "    thread_list.append(filter_thread)\n",
    "    filter_thread.start()\n",
    "    \n",
    "for i in thread_list:\n",
    "    i.join()\n",
    "\n",
    "print(volume_index_drop)"
   ]
  },
  {
   "cell_type": "code",
   "execution_count": 6,
   "id": "e4c91167",
   "metadata": {
    "scrolled": true
   },
   "outputs": [
    {
     "data": {
      "text/html": [
       "<div>\n",
       "<style scoped>\n",
       "    .dataframe tbody tr th:only-of-type {\n",
       "        vertical-align: middle;\n",
       "    }\n",
       "\n",
       "    .dataframe tbody tr th {\n",
       "        vertical-align: top;\n",
       "    }\n",
       "\n",
       "    .dataframe thead th {\n",
       "        text-align: right;\n",
       "    }\n",
       "</style>\n",
       "<table border=\"1\" class=\"dataframe\">\n",
       "  <thead>\n",
       "    <tr style=\"text-align: right;\">\n",
       "      <th></th>\n",
       "      <th>0</th>\n",
       "    </tr>\n",
       "  </thead>\n",
       "  <tbody>\n",
       "    <tr>\n",
       "      <th>0</th>\n",
       "      <td>AAPL</td>\n",
       "    </tr>\n",
       "    <tr>\n",
       "      <th>1</th>\n",
       "      <td>ABBV</td>\n",
       "    </tr>\n",
       "    <tr>\n",
       "      <th>2</th>\n",
       "      <td>ABT</td>\n",
       "    </tr>\n",
       "    <tr>\n",
       "      <th>3</th>\n",
       "      <td>ACN</td>\n",
       "    </tr>\n",
       "    <tr>\n",
       "      <th>4</th>\n",
       "      <td>AIG</td>\n",
       "    </tr>\n",
       "  </tbody>\n",
       "</table>\n",
       "</div>"
      ],
      "text/plain": [
       "      0\n",
       "0  AAPL\n",
       "1  ABBV\n",
       "2   ABT\n",
       "3   ACN\n",
       "4   AIG"
      ]
     },
     "execution_count": 6,
     "metadata": {},
     "output_type": "execute_result"
    }
   ],
   "source": [
    "#Drops invalid tickers\n",
    "csv_tickers.drop(index = volume_index_drop, inplace = True)\n",
    "csv_tickers.reset_index(drop = True, inplace = True)\n",
    "csv_tickers.head()"
   ]
  },
  {
   "cell_type": "code",
   "execution_count": 7,
   "id": "57b3c0ea",
   "metadata": {},
   "outputs": [],
   "source": [
    "tickers_list = []\n",
    "price_list = []\n",
    "shares_list = []\n",
    "values_list = []\n",
    "weight_list = []"
   ]
  },
  {
   "cell_type": "code",
   "execution_count": 8,
   "id": "6f777d9e",
   "metadata": {},
   "outputs": [],
   "source": [
    "# Richard\n",
    "total_amount_to_spend = 500000\n",
    "\n",
    "Portfolio_Final = pd.DataFrame({\n",
    "    'Ticker': tickers_list,\n",
    "    'Price': price_list,\n",
    "    'Shares': shares_list,\n",
    "    'Value': values_list,\n",
    "    'Weight': weight_list\n",
    "})"
   ]
  },
  {
   "cell_type": "code",
   "execution_count": null,
   "id": "1458b41b",
   "metadata": {},
   "outputs": [],
   "source": []
  },
  {
   "cell_type": "code",
   "execution_count": 9,
   "id": "9bde116f",
   "metadata": {},
   "outputs": [],
   "source": [
    "# Deniz"
   ]
  },
  {
   "cell_type": "code",
   "execution_count": null,
   "id": "60db0f79",
   "metadata": {
    "scrolled": true
   },
   "outputs": [],
   "source": [
    "# Mitchel\n",
    "close_start = '2022-01-01'\n",
    "close_end = '2022-10-31'\n",
    "close_all = pd.DataFrame()\n",
    "for i in range(0,len(csv_tickers)):\n",
    "    stock_data = yf.Ticker(csv_tickers[0][i])\n",
    "    stock_hist = stock_data.history(start = close_start, end = close_end, interval = '1d')\n",
    "    stock_close = stock_hist['Close']\n",
    "    stock_close = stock_close.dropna()\n",
    "    close_all[csv_tickers[0][i]] = stock_close\n",
    "    \n",
    "close_all.head()"
   ]
  },
  {
   "cell_type": "code",
   "execution_count": null,
   "id": "fdac87c2",
   "metadata": {
    "scrolled": true
   },
   "outputs": [],
   "source": [
    "close_all_pct = close_all.pct_change() * 100\n",
    "close_all_pct.head()"
   ]
  },
  {
   "cell_type": "code",
   "execution_count": null,
   "id": "f7a0823d",
   "metadata": {},
   "outputs": [],
   "source": [
    "#Expected Return\n",
    "expected_return = close_all_pct.mean()\n",
    "expected_return.head()"
   ]
  },
  {
   "cell_type": "code",
   "execution_count": null,
   "id": "f718760b",
   "metadata": {},
   "outputs": [],
   "source": [
    "expected_return_from_0 = abs(0 - expected_return)\n",
    "expected_return_from_0\n",
    "\n",
    "expected_return_sorted = sorted(expected_return_from_0.items(), key=lambda x:x[1])"
   ]
  },
  {
   "cell_type": "code",
   "execution_count": null,
   "id": "0a4327a4",
   "metadata": {
    "scrolled": true
   },
   "outputs": [],
   "source": [
    "std_lst = close_all_pct.std()\n",
    "std_lst = sorted(std_lst.items(), key=lambda x:x[1])"
   ]
  },
  {
   "cell_type": "code",
   "execution_count": null,
   "id": "5977d27b",
   "metadata": {
    "scrolled": true
   },
   "outputs": [],
   "source": [
    "correlation_pct_stocks = pd.DataFrame()\n",
    "index = []\n",
    "\n",
    "for i in range(len(close_all_pct.columns)):\n",
    "    \n",
    "    correlation_temp = {}\n",
    "    \n",
    "    for j in range(len(close_all_pct.columns)):\n",
    "        correlation_df = pd.DataFrame({\n",
    "            csv_tickers[0][i]: close_all_pct[csv_tickers[0][i]]\n",
    "        })\n",
    "        \n",
    "        correlation_df[csv_tickers[0][j]] = close_all_pct[csv_tickers[0][j]]\n",
    "        correlation = correlation_df.corr()[csv_tickers[0][i]][csv_tickers[0][j]]\n",
    "\n",
    "        correlation_temp[csv_tickers[0][j]] = correlation\n",
    "        \n",
    "    correlation_pct_stocks[csv_tickers[0][i]] = list(correlation_temp.values())\n",
    "    index.append(csv_tickers[0][i])\n",
    "\n",
    "\n",
    "correlation_pct_stocks.set_index([pd.Index(index)])\n",
    "correlation_pct_stocks.head()"
   ]
  },
  {
   "cell_type": "code",
   "execution_count": null,
   "id": "5655e1ef",
   "metadata": {},
   "outputs": [],
   "source": [
    "correlation_pct_mean = pd.DataFrame()\n",
    "correlation_pct_mean = correlation_pct_stocks.sum()\n",
    "correlation_pct_mean = correlation_pct_mean - 1\n",
    "correlation_pct_mean = correlation_pct_mean/(len(correlation_pct_stocks) - 1)\n",
    "\n",
    "correlation_pct_mean.head()"
   ]
  },
  {
   "cell_type": "code",
   "execution_count": null,
   "id": "7718a0dd",
   "metadata": {
    "scrolled": true
   },
   "outputs": [],
   "source": [
    "correlation_from_0 = abs(0 - correlation_pct_mean)\n",
    "correlation_from_0 = sorted(correlation_from_0.items(), key=lambda x:x[1])"
   ]
  },
  {
   "cell_type": "code",
   "execution_count": null,
   "id": "6d6add8f",
   "metadata": {},
   "outputs": [],
   "source": []
  },
  {
   "cell_type": "code",
   "execution_count": 202,
   "id": "ca9f7f6f",
   "metadata": {},
   "outputs": [
    {
     "data": {
      "text/html": [
       "<div>\n",
       "<style scoped>\n",
       "    .dataframe tbody tr th:only-of-type {\n",
       "        vertical-align: middle;\n",
       "    }\n",
       "\n",
       "    .dataframe tbody tr th {\n",
       "        vertical-align: top;\n",
       "    }\n",
       "\n",
       "    .dataframe thead th {\n",
       "        text-align: right;\n",
       "    }\n",
       "</style>\n",
       "<table border=\"1\" class=\"dataframe\">\n",
       "  <thead>\n",
       "    <tr style=\"text-align: right;\">\n",
       "      <th></th>\n",
       "      <th>Expected Returns</th>\n",
       "      <th>Standard Deviation</th>\n",
       "      <th>Correlation</th>\n",
       "    </tr>\n",
       "  </thead>\n",
       "  <tbody>\n",
       "    <tr>\n",
       "      <th>55</th>\n",
       "      <td>SO</td>\n",
       "      <td>MON</td>\n",
       "      <td>MON</td>\n",
       "    </tr>\n",
       "    <tr>\n",
       "      <th>54</th>\n",
       "      <td>PM</td>\n",
       "      <td>BMY</td>\n",
       "      <td>LMT</td>\n",
       "    </tr>\n",
       "    <tr>\n",
       "      <th>53</th>\n",
       "      <td>MO</td>\n",
       "      <td>MRK</td>\n",
       "      <td>OXY</td>\n",
       "    </tr>\n",
       "    <tr>\n",
       "      <th>52</th>\n",
       "      <td>MON</td>\n",
       "      <td>PEP</td>\n",
       "      <td>SLB</td>\n",
       "    </tr>\n",
       "    <tr>\n",
       "      <th>51</th>\n",
       "      <td>T</td>\n",
       "      <td>KO</td>\n",
       "      <td>COP</td>\n",
       "    </tr>\n",
       "  </tbody>\n",
       "</table>\n",
       "</div>"
      ],
      "text/plain": [
       "   Expected Returns Standard Deviation Correlation\n",
       "55               SO                MON         MON\n",
       "54               PM                BMY         LMT\n",
       "53               MO                MRK         OXY\n",
       "52              MON                PEP         SLB\n",
       "51                T                 KO         COP"
      ]
     },
     "execution_count": 202,
     "metadata": {},
     "output_type": "execute_result"
    }
   ],
   "source": [
    "points_system = pd.DataFrame()\n",
    "expected_lst = []\n",
    "std_deviation_lst = []\n",
    "correlation_lst = []\n",
    "\n",
    "for i in expected_return_sorted:\n",
    "    expected_lst.append(i[0])\n",
    "    \n",
    "for i in std_lst:\n",
    "    std_deviation_lst.append(i[0])\n",
    "\n",
    "for i in correlation_from_0:\n",
    "    correlation_lst.append(i[0])\n",
    "\n",
    "points_system['Expected Returns'] = expected_lst\n",
    "points_system['Standard Deviation'] = std_deviation_lst\n",
    "points_system['Correlation'] = correlation_lst\n",
    "points_system.index += 1 \n",
    "\n",
    "points_system = points_system.set_index([points_system.index[::-1]])\n",
    "\n",
    "points_system.head()"
   ]
  },
  {
   "cell_type": "code",
   "execution_count": 203,
   "id": "6a2d9afd",
   "metadata": {},
   "outputs": [
    {
     "data": {
      "text/html": [
       "<div>\n",
       "<style scoped>\n",
       "    .dataframe tbody tr th:only-of-type {\n",
       "        vertical-align: middle;\n",
       "    }\n",
       "\n",
       "    .dataframe tbody tr th {\n",
       "        vertical-align: top;\n",
       "    }\n",
       "\n",
       "    .dataframe thead th {\n",
       "        text-align: right;\n",
       "    }\n",
       "</style>\n",
       "<table border=\"1\" class=\"dataframe\">\n",
       "  <thead>\n",
       "    <tr style=\"text-align: right;\">\n",
       "      <th></th>\n",
       "      <th>Tickers</th>\n",
       "      <th>Points</th>\n",
       "    </tr>\n",
       "  </thead>\n",
       "  <tbody>\n",
       "    <tr>\n",
       "      <th>1</th>\n",
       "      <td>MON</td>\n",
       "      <td>162</td>\n",
       "    </tr>\n",
       "    <tr>\n",
       "      <th>2</th>\n",
       "      <td>SO</td>\n",
       "      <td>147</td>\n",
       "    </tr>\n",
       "    <tr>\n",
       "      <th>3</th>\n",
       "      <td>MO</td>\n",
       "      <td>144</td>\n",
       "    </tr>\n",
       "    <tr>\n",
       "      <th>4</th>\n",
       "      <td>PM</td>\n",
       "      <td>142</td>\n",
       "    </tr>\n",
       "    <tr>\n",
       "      <th>5</th>\n",
       "      <td>ABBV</td>\n",
       "      <td>134</td>\n",
       "    </tr>\n",
       "  </tbody>\n",
       "</table>\n",
       "</div>"
      ],
      "text/plain": [
       "  Tickers Points\n",
       "1     MON    162\n",
       "2      SO    147\n",
       "3      MO    144\n",
       "4      PM    142\n",
       "5    ABBV    134"
      ]
     },
     "execution_count": 203,
     "metadata": {},
     "output_type": "execute_result"
    }
   ],
   "source": [
    "score = pd.DataFrame()\n",
    "    \n",
    "score['Tickers'] = expected_lst\n",
    "\n",
    "score['Points'] = None\n",
    "\n",
    "for i in range(len(score)):\n",
    "    score['Points'][i] = (int(points_system[points_system['Expected Returns'] == expected_lst[i]].index.values)) + (int(points_system[points_system['Standard Deviation'] == expected_lst[i]].index.values)) + (int(points_system[points_system['Correlation'] == expected_lst[i]].index.values)) \n",
    "\n",
    "score = score.sort_values(\"Points\")\n",
    "score = score[::-1]\n",
    "score = score.reset_index(drop=True)\n",
    "score.index += 1 \n",
    "\n",
    "score.head()"
   ]
  },
  {
   "cell_type": "code",
   "execution_count": 204,
   "id": "022e55ad",
   "metadata": {},
   "outputs": [
    {
     "data": {
      "text/html": [
       "<div>\n",
       "<style scoped>\n",
       "    .dataframe tbody tr th:only-of-type {\n",
       "        vertical-align: middle;\n",
       "    }\n",
       "\n",
       "    .dataframe tbody tr th {\n",
       "        vertical-align: top;\n",
       "    }\n",
       "\n",
       "    .dataframe thead th {\n",
       "        text-align: right;\n",
       "    }\n",
       "</style>\n",
       "<table border=\"1\" class=\"dataframe\">\n",
       "  <thead>\n",
       "    <tr style=\"text-align: right;\">\n",
       "      <th></th>\n",
       "      <th>Tickers</th>\n",
       "      <th>Points</th>\n",
       "    </tr>\n",
       "  </thead>\n",
       "  <tbody>\n",
       "    <tr>\n",
       "      <th>1</th>\n",
       "      <td>MON</td>\n",
       "      <td>162</td>\n",
       "    </tr>\n",
       "    <tr>\n",
       "      <th>2</th>\n",
       "      <td>SO</td>\n",
       "      <td>147</td>\n",
       "    </tr>\n",
       "    <tr>\n",
       "      <th>3</th>\n",
       "      <td>MO</td>\n",
       "      <td>144</td>\n",
       "    </tr>\n",
       "    <tr>\n",
       "      <th>4</th>\n",
       "      <td>PM</td>\n",
       "      <td>142</td>\n",
       "    </tr>\n",
       "    <tr>\n",
       "      <th>5</th>\n",
       "      <td>ABBV</td>\n",
       "      <td>134</td>\n",
       "    </tr>\n",
       "  </tbody>\n",
       "</table>\n",
       "</div>"
      ],
      "text/plain": [
       "  Tickers Points\n",
       "1     MON    162\n",
       "2      SO    147\n",
       "3      MO    144\n",
       "4      PM    142\n",
       "5    ABBV    134"
      ]
     },
     "execution_count": 204,
     "metadata": {},
     "output_type": "execute_result"
    }
   ],
   "source": [
    "number_of_stocks = 25\n",
    "\n",
    "score_dropped = score.copy()\n",
    "score_dropped.drop(labels = range(number_of_stocks + 1, len(score) + 1), inplace = True)\n",
    "score_dropped.head()"
   ]
  },
  {
   "cell_type": "code",
   "execution_count": 205,
   "id": "0dee8829",
   "metadata": {},
   "outputs": [
    {
     "data": {
      "text/html": [
       "<div>\n",
       "<style scoped>\n",
       "    .dataframe tbody tr th:only-of-type {\n",
       "        vertical-align: middle;\n",
       "    }\n",
       "\n",
       "    .dataframe tbody tr th {\n",
       "        vertical-align: top;\n",
       "    }\n",
       "\n",
       "    .dataframe thead th {\n",
       "        text-align: right;\n",
       "    }\n",
       "</style>\n",
       "<table border=\"1\" class=\"dataframe\">\n",
       "  <thead>\n",
       "    <tr style=\"text-align: right;\">\n",
       "      <th></th>\n",
       "      <th>Tickers</th>\n",
       "      <th>Points</th>\n",
       "      <th>Base Weighting</th>\n",
       "      <th>Points-based Weighting</th>\n",
       "      <th>Total Weighting</th>\n",
       "    </tr>\n",
       "  </thead>\n",
       "  <tbody>\n",
       "    <tr>\n",
       "      <th>1</th>\n",
       "      <td>MON</td>\n",
       "      <td>162</td>\n",
       "      <td>2.0</td>\n",
       "      <td>2.779684</td>\n",
       "      <td>4.779684</td>\n",
       "    </tr>\n",
       "    <tr>\n",
       "      <th>2</th>\n",
       "      <td>SO</td>\n",
       "      <td>147</td>\n",
       "      <td>2.0</td>\n",
       "      <td>2.522306</td>\n",
       "      <td>4.522306</td>\n",
       "    </tr>\n",
       "    <tr>\n",
       "      <th>3</th>\n",
       "      <td>MO</td>\n",
       "      <td>144</td>\n",
       "      <td>2.0</td>\n",
       "      <td>2.47083</td>\n",
       "      <td>4.47083</td>\n",
       "    </tr>\n",
       "    <tr>\n",
       "      <th>4</th>\n",
       "      <td>PM</td>\n",
       "      <td>142</td>\n",
       "      <td>2.0</td>\n",
       "      <td>2.436513</td>\n",
       "      <td>4.436513</td>\n",
       "    </tr>\n",
       "    <tr>\n",
       "      <th>5</th>\n",
       "      <td>ABBV</td>\n",
       "      <td>134</td>\n",
       "      <td>2.0</td>\n",
       "      <td>2.299245</td>\n",
       "      <td>4.299245</td>\n",
       "    </tr>\n",
       "  </tbody>\n",
       "</table>\n",
       "</div>"
      ],
      "text/plain": [
       "  Tickers Points  Base Weighting Points-based Weighting Total Weighting\n",
       "1     MON    162             2.0               2.779684        4.779684\n",
       "2      SO    147             2.0               2.522306        4.522306\n",
       "3      MO    144             2.0                2.47083         4.47083\n",
       "4      PM    142             2.0               2.436513        4.436513\n",
       "5    ABBV    134             2.0               2.299245        4.299245"
      ]
     },
     "execution_count": 205,
     "metadata": {},
     "output_type": "execute_result"
    }
   ],
   "source": [
    "min_weighting = 100/(2*number_of_stocks)\n",
    "base_weighting_total = min_weighting * number_of_stocks\n",
    "\n",
    "score_dropped['Base Weighting'] = min_weighting\n",
    "weighting_sum = score_dropped['Points'].sum()\n",
    "\n",
    "score_dropped['Points-based Weighting'] = (score_dropped['Points']/weighting_sum) * (100 - base_weighting_total)\n",
    "score_dropped['Total Weighting'] = score_dropped['Base Weighting'] + score_dropped['Points-based Weighting']\n",
    "score_dropped.head()"
   ]
  },
  {
   "cell_type": "code",
   "execution_count": null,
   "id": "dce7c82d",
   "metadata": {},
   "outputs": [],
   "source": []
  },
  {
   "cell_type": "code",
   "execution_count": null,
   "id": "482930ae",
   "metadata": {},
   "outputs": [],
   "source": []
  }
 ],
 "metadata": {
  "kernelspec": {
   "display_name": "venv",
   "language": "python",
   "name": "venv"
  },
  "language_info": {
   "codemirror_mode": {
    "name": "ipython",
    "version": 3
   },
   "file_extension": ".py",
   "mimetype": "text/x-python",
   "name": "python",
   "nbconvert_exporter": "python",
   "pygments_lexer": "ipython3",
   "version": "3.10.4"
  }
 },
 "nbformat": 4,
 "nbformat_minor": 5
}
